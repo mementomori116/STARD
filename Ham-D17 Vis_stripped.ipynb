{
 "nbformat_minor": 1, 
 "nbformat": 4, 
 "cells": [
  {
   "source": [
    "## Hamilton Depression Scale"
   ], 
   "cell_type": "markdown", 
   "metadata": {}
  }, 
  {
   "execution_count": 31, 
   "cell_type": "code", 
   "source": [
    "#This is a 17-item self-report scale; each item is an integer from 0-4 (some items only allow for a max of 2)\n", 
    "#Of all of the available datasets, I think this makes the most sense to start with."
   ], 
   "outputs": [], 
   "metadata": {
    "collapsed": true
   }
  }, 
  {
   "execution_count": 1, 
   "cell_type": "code", 
   "source": [
    "import numpy as np\n", 
    "import pandas as pd\n", 
    "import matplotlib.pyplot as plt\n", 
    "pd.options.display.max_rows = 999\n", 
    "pd.options.display.max_columns = 999\n", 
    "%matplotlib inline"
   ], 
   "outputs": [], 
   "metadata": {
    "collapsed": true
   }
  }, 
  {
   "execution_count": 2, 
   "cell_type": "code", 
   "source": [
    "hrsd01_filename = 'hrsd01.txt'"
   ], 
   "outputs": [], 
   "metadata": {
    "collapsed": true
   }
  }, 
  {
   "execution_count": 3, 
   "cell_type": "code", 
   "source": [
    "hrsd01 = pd.read_table(hrsd01_filename)"
   ], 
   "outputs": [], 
   "metadata": {
    "collapsed": false
   }
  }, 
  {
   "source": [
    "## Basic visualization stuff"
   ], 
   "cell_type": "markdown", 
   "metadata": {
    "collapsed": true
   }
  }, 
  {
   "execution_count": 4, 
   "cell_type": "code", 
   "source": [
    "hrsd01.head(3)"
   ], 
   "outputs": [], 
   "metadata": {
    "scrolled": true, 
    "collapsed": false
   }
  }, 
  {
   "execution_count": 5, 
   "cell_type": "code", 
   "source": [
    "hrsd01.tail(3)"
   ], 
   "outputs": [], 
   "metadata": {
    "collapsed": false
   }
  }, 
  {
   "execution_count": 6, 
   "cell_type": "code", 
   "source": [
    "hrsd01.ndim"
   ], 
   "outputs": [], 
   "metadata": {
    "collapsed": false
   }
  }, 
  {
   "execution_count": 7, 
   "cell_type": "code", 
   "source": [
    "hrsd01.shape"
   ], 
   "outputs": [], 
   "metadata": {
    "collapsed": false
   }
  }, 
  {
   "execution_count": 8, 
   "cell_type": "code", 
   "source": [
    "hrsd01.size"
   ], 
   "outputs": [], 
   "metadata": {
    "collapsed": false
   }
  }, 
  {
   "source": [
    "## Making a workable matrix"
   ], 
   "cell_type": "markdown", 
   "metadata": {}
  }, 
  {
   "execution_count": 9, 
   "cell_type": "code", 
   "source": [
    "hrsd02 = pd.read_table(hrsd01_filename, skiprows=[1])\n", 
    "#skipping the first row so that I don't get that concatination error"
   ], 
   "outputs": [], 
   "metadata": {
    "collapsed": false
   }
  }, 
  {
   "execution_count": 10, 
   "cell_type": "code", 
   "source": [
    "hrsd02.head(3)"
   ], 
   "outputs": [], 
   "metadata": {
    "collapsed": false
   }
  }, 
  {
   "execution_count": 11, 
   "cell_type": "code", 
   "source": [
    "hrsd01.columns"
   ], 
   "outputs": [], 
   "metadata": {
    "collapsed": false
   }
  }, 
  {
   "execution_count": 12, 
   "cell_type": "code", 
   "source": [
    "hrsd02.shape"
   ], 
   "outputs": [], 
   "metadata": {
    "collapsed": false
   }
  }, 
  {
   "execution_count": 13, 
   "cell_type": "code", 
   "source": [
    "hrsd02.hdtot_r.hist(bins=np.linspace(0., 50., 100))"
   ], 
   "outputs": [], 
   "metadata": {
    "collapsed": false
   }
  }, 
  {
   "execution_count": 15, 
   "cell_type": "code", 
   "source": [
    "#let's check to make sure we know what the data structure is\n", 
    "type(hrsd02)"
   ], 
   "outputs": [], 
   "metadata": {
    "collapsed": false
   }
  }, 
  {
   "execution_count": 18, 
   "cell_type": "code", 
   "source": [
    "#I could also inspect the individual cell variable types with the following code; this also reveals subarrays\n", 
    "#hrsd02.dtypes"
   ], 
   "outputs": [], 
   "metadata": {
    "collapsed": false
   }
  }, 
  {
   "execution_count": 19, 
   "cell_type": "code", 
   "source": [
    " #Reminder: arrays can have the following attributes: np.array(hrsd02, dtype=None, copy=True, order='K', subok=False, ndmin=0)"
   ], 
   "outputs": [], 
   "metadata": {
    "collapsed": true
   }
  }, 
  {
   "execution_count": 20, 
   "cell_type": "code", 
   "source": [
    "hrsd02.shape"
   ], 
   "outputs": [], 
   "metadata": {
    "collapsed": false
   }
  }, 
  {
   "source": [
    "# Refining the matrix"
   ], 
   "cell_type": "markdown", 
   "metadata": {
    "collapsed": false
   }
  }, 
  {
   "execution_count": 21, 
   "cell_type": "code", 
   "source": [
    "#At this point, I think what I need to do is create a tuple that contains only the datapoints I care about.\n", 
    "#The most obvious way to do this would be to write a comma-separated tuple of indices pointing to individual values\n", 
    "    #But that seems terrible. Is there any otherway to do it?"
   ], 
   "outputs": [], 
   "metadata": {
    "collapsed": true
   }
  }, 
  {
   "execution_count": 22, 
   "cell_type": "code", 
   "source": [
    "#I think what we want to do is slice the subarrays in a stepwise fashion (eg pg 44 of Python Data Science Handbook)"
   ], 
   "outputs": [], 
   "metadata": {
    "collapsed": true
   }
  }, 
  {
   "execution_count": null, 
   "cell_type": "code", 
   "source": [
    "hrsd02.sub = hrsd02[]\n", 
    "print (hrsd02.sub)"
   ], 
   "outputs": [], 
   "metadata": {
    "collapsed": true
   }
  }, 
  {
   "source": [
    "## Let's make a quick scatterplot"
   ], 
   "cell_type": "markdown", 
   "metadata": {}
  }, 
  {
   "execution_count": 49, 
   "cell_type": "code", 
   "source": [
    "# This code is from http://stamfordresearch.com/k-means-clustering-in-python/\n", 
    "# Store the inputs as a Pandas Dataframe and set the column names\n", 
    "x1 = pd.DataFrame(hrsd02.hpanx)\n", 
    "x1.columns = ['Psychic Anxiety']\n", 
    " \n", 
    "y1 = pd.DataFrame(hrsd02.hdtot_r)\n", 
    "y1.columns = ['Ham-D Total Score']\n", 
    "\n", 
    "x2 = pd.DataFrame(hrsd02.hmdsd)\n", 
    "x2.columns = ['Depressed Mood']\n", 
    " \n", 
    "y2 = pd.DataFrame(hrsd02.hdtot_r)\n", 
    "y2.columns = ['Ham-D Total Score']"
   ], 
   "outputs": [], 
   "metadata": {
    "collapsed": false
   }
  }, 
  {
   "execution_count": 50, 
   "cell_type": "code", 
   "source": [
    "# Set the size of the plot\n", 
    "plt.figure(figsize=(14,7))\n", 
    "\n", 
    "# Plot\n", 
    "plt.subplot(1, 2, 1)\n", 
    "plt.scatter(x1, y1)\n", 
    "plt.title('Psychic Anxiety vs Total Score')\n", 
    " \n", 
    "plt.subplot(1, 2, 2)\n", 
    "plt.scatter(x2, y2)\n", 
    "plt.title('Depressed Mood vs Total Score')"
   ], 
   "outputs": [], 
   "metadata": {
    "collapsed": false
   }
  }, 
  {
   "source": [
    "## K-means"
   ], 
   "cell_type": "markdown", 
   "metadata": {
    "collapsed": false
   }
  }, 
  {
   "source": [
    "Now I'm getting way ahead of myself! This can stay here for later."
   ], 
   "cell_type": "markdown", 
   "metadata": {}
  }, 
  {
   "execution_count": 19, 
   "cell_type": "code", 
   "source": [
    "# Again, from http://stamfordresearch.com/k-means-clustering-in-python/\n", 
    "# K Means Cluster\n", 
    "model = pd.KMeans(n_clusters=4)\n", 
    "model.fit(x)"
   ], 
   "outputs": [], 
   "metadata": {
    "collapsed": false
   }
  }, 
  {
   "execution_count": null, 
   "cell_type": "code", 
   "source": [], 
   "outputs": [], 
   "metadata": {
    "collapsed": false
   }
  }, 
  {
   "execution_count": null, 
   "cell_type": "code", 
   "source": [], 
   "outputs": [], 
   "metadata": {
    "collapsed": true
   }
  }
 ], 
 "metadata": {
  "kernelspec": {
   "display_name": "Python [conda root]", 
   "name": "conda-root-py", 
   "language": "python"
  }, 
  "language_info": {
   "mimetype": "text/x-python", 
   "nbconvert_exporter": "python", 
   "name": "python", 
   "file_extension": ".py", 
   "version": "2.7.12", 
   "pygments_lexer": "ipython2", 
   "codemirror_mode": {
    "version": 2, 
    "name": "ipython"
   }
  }, 
  "anaconda-cloud": {}
 }
}