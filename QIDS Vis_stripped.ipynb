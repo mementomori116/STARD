{
 "nbformat_minor": 1, 
 "nbformat": 4, 
 "cells": [
  {
   "source": [
    "## Quick Inventory of Depressive Symptomatology"
   ], 
   "cell_type": "markdown", 
   "metadata": {}
  }, 
  {
   "execution_count": 1, 
   "cell_type": "code", 
   "source": [
    "#It's unclear exactly what's in this dataset"
   ], 
   "outputs": [], 
   "metadata": {
    "collapsed": true
   }
  }, 
  {
   "execution_count": 13, 
   "cell_type": "code", 
   "source": [
    "import numpy as np\n", 
    "import pandas as pd\n", 
    "import matplotlib.pyplot as plt\n", 
    "pd.options.display.max_rows = 999\n", 
    "pd.options.display.max_columns = 999\n", 
    "%matplotlib inline"
   ], 
   "outputs": [], 
   "metadata": {
    "collapsed": true
   }
  }, 
  {
   "execution_count": 14, 
   "cell_type": "code", 
   "source": [
    "qids01_filename = 'qids01.txt'"
   ], 
   "outputs": [], 
   "metadata": {
    "collapsed": true
   }
  }, 
  {
   "execution_count": 15, 
   "cell_type": "code", 
   "source": [
    "qids01 = pd.read_table(qids01_filename)"
   ], 
   "outputs": [], 
   "metadata": {
    "collapsed": false
   }
  }, 
  {
   "execution_count": 16, 
   "cell_type": "code", 
   "source": [
    "qids01.head(3)"
   ], 
   "outputs": [], 
   "metadata": {
    "collapsed": false
   }
  }, 
  {
   "execution_count": 17, 
   "cell_type": "code", 
   "source": [
    "qids01.tail(3)"
   ], 
   "outputs": [], 
   "metadata": {
    "collapsed": false
   }
  }, 
  {
   "execution_count": 18, 
   "cell_type": "code", 
   "source": [
    "qids01.columns"
   ], 
   "outputs": [], 
   "metadata": {
    "collapsed": false
   }
  }, 
  {
   "execution_count": 19, 
   "cell_type": "code", 
   "source": [
    "qids02 = pd.read_table(qids01_filename, skiprows=[1])\n", 
    "#skipping the first row so that I don't get that concatination error"
   ], 
   "outputs": [], 
   "metadata": {
    "collapsed": true
   }
  }, 
  {
   "execution_count": 20, 
   "cell_type": "code", 
   "source": [
    "qids02.head(3)"
   ], 
   "outputs": [], 
   "metadata": {
    "collapsed": false
   }
  }, 
  {
   "execution_count": 21, 
   "cell_type": "code", 
   "source": [
    "qids02.qstot.hist(bins=np.linspace(0., 30., 100))"
   ], 
   "outputs": [], 
   "metadata": {
    "collapsed": false
   }
  }, 
  {
   "source": [
    "## Scatterplot"
   ], 
   "cell_type": "markdown", 
   "metadata": {
    "collapsed": true
   }
  }, 
  {
   "execution_count": 54, 
   "cell_type": "code", 
   "source": [
    "#I think I need to make a dataframe with only the columns I want to plot\n", 
    "x = qids02.vsoin\n", 
    "y = qids02.vsoin, qids02.vmnin\n", 
    "#df_scatter = qids02(['vsoin', 'vmnin', 'vemin', 'vhysm', 'vmdsd', 'vapdc', 'vapin', 'vwtdc', 'vwtin', 'vcntr', 'vvwsf', 'vsuic', 'vintr', 'vengy', 'vslow', 'vagit'])"
   ], 
   "outputs": [], 
   "metadata": {
    "collapsed": false
   }
  }, 
  {
   "execution_count": 55, 
   "cell_type": "code", 
   "source": [
    "y"
   ], 
   "outputs": [], 
   "metadata": {
    "collapsed": false
   }
  }, 
  {
   "execution_count": 46, 
   "cell_type": "code", 
   "source": [
    "df_scatter"
   ], 
   "outputs": [], 
   "metadata": {
    "collapsed": false
   }
  }, 
  {
   "execution_count": 43, 
   "cell_type": "code", 
   "source": [
    "#This code is based on http://pandas.pydata.org/pandas-docs/version/0.15.0/visualization.html\n", 
    "x = pd.DataFrame(df_scatter)\n", 
    "x.columns = [['vsoin', 'vmnin', 'vemin', 'vhysm', 'vmdsd', 'vapdc', 'vapin', 'vwtdc,' 'vwtin', 'vcntr', 'vvwsf', 'vsuic', 'vintr', 'vengy', 'vslow', 'vagit']]"
   ], 
   "outputs": [], 
   "metadata": {
    "collapsed": false
   }
  }, 
  {
   "execution_count": 34, 
   "cell_type": "code", 
   "source": [
    " df_scatter.plot(kind='scatter', x='vsoin', y='vmnin');"
   ], 
   "outputs": [], 
   "metadata": {
    "collapsed": false
   }
  }, 
  {
   "execution_count": null, 
   "cell_type": "code", 
   "source": [
    "# This code is from http://stamfordresearch.com/k-means-clustering-in-python/"
   ], 
   "outputs": [], 
   "metadata": {
    "collapsed": true
   }
  }
 ], 
 "metadata": {
  "kernelspec": {
   "display_name": "Python [conda root]", 
   "name": "conda-root-py", 
   "language": "python"
  }, 
  "language_info": {
   "mimetype": "text/x-python", 
   "nbconvert_exporter": "python", 
   "name": "python", 
   "file_extension": ".py", 
   "version": "2.7.12", 
   "pygments_lexer": "ipython2", 
   "codemirror_mode": {
    "version": 2, 
    "name": "ipython"
   }
  }, 
  "anaconda-cloud": {}
 }
}