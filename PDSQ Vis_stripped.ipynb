{
 "nbformat_minor": 1, 
 "nbformat": 4, 
 "cells": [
  {
   "source": [
    "## PDSQ"
   ], 
   "cell_type": "markdown", 
   "metadata": {}
  }, 
  {
   "execution_count": null, 
   "cell_type": "code", 
   "source": [
    "#this is a self-report checklist that has 125 binary variables and screens for DSM-IV Axis I disorders"
   ], 
   "outputs": [], 
   "metadata": {
    "collapsed": true
   }
  }, 
  {
   "execution_count": 1, 
   "cell_type": "code", 
   "source": [
    "import numpy as np\n", 
    "import pandas as pd\n", 
    "import matplotlib.pyplot as plt\n", 
    "pd.options.display.max_rows = 999\n", 
    "pd.options.display.max_columns = 999\n", 
    "%matplotlib inline"
   ], 
   "outputs": [], 
   "metadata": {
    "collapsed": true
   }
  }, 
  {
   "execution_count": 2, 
   "cell_type": "code", 
   "source": [
    "pdsq01_filename = 'pdsq01.txt'"
   ], 
   "outputs": [], 
   "metadata": {
    "collapsed": true
   }
  }, 
  {
   "execution_count": 3, 
   "cell_type": "code", 
   "source": [
    "pdsq01 = pd.read_table(pdsq01_filename)"
   ], 
   "outputs": [], 
   "metadata": {
    "collapsed": true
   }
  }, 
  {
   "execution_count": 5, 
   "cell_type": "code", 
   "source": [
    "pdsq01.shape"
   ], 
   "outputs": [], 
   "metadata": {
    "collapsed": false
   }
  }, 
  {
   "execution_count": 4, 
   "cell_type": "code", 
   "source": [
    "pdsq01.head(3)"
   ], 
   "outputs": [], 
   "metadata": {
    "collapsed": false
   }
  }, 
  {
   "execution_count": 5, 
   "cell_type": "code", 
   "source": [
    "pdsq02 = pd.read_table(pdsq01_filename, skiprows=[1])"
   ], 
   "outputs": [], 
   "metadata": {
    "collapsed": true
   }
  }, 
  {
   "execution_count": 6, 
   "cell_type": "code", 
   "source": [
    "pdsq02.head(3)"
   ], 
   "outputs": [], 
   "metadata": {
    "collapsed": false
   }
  }, 
  {
   "execution_count": null, 
   "cell_type": "code", 
   "source": [
    "pdsq02.hdtot_r.hist(bins=np.linspace(0., 50., 100))"
   ], 
   "outputs": [], 
   "metadata": {
    "collapsed": true
   }
  }
 ], 
 "metadata": {
  "kernelspec": {
   "display_name": "Python [conda root]", 
   "name": "conda-root-py", 
   "language": "python"
  }, 
  "language_info": {
   "mimetype": "text/x-python", 
   "nbconvert_exporter": "python", 
   "name": "python", 
   "file_extension": ".py", 
   "version": "2.7.12", 
   "pygments_lexer": "ipython2", 
   "codemirror_mode": {
    "version": 2, 
    "name": "ipython"
   }
  }, 
  "anaconda-cloud": {}
 }
}